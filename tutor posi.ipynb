{
 "cells": [
  {
   "cell_type": "code",
   "execution_count": 4,
   "metadata": {},
   "outputs": [
    {
     "name": "stdout",
     "output_type": "stream",
     "text": [
      "27.0 derajat celcius sama dengan 80.6 derajat fahrenheit, 21.6 derajat reamur, 300.0 derajat kelvin\n"
     ]
    }
   ],
   "source": [
    "#Program Konversi Suhu\n",
    "\n",
    "celcius = float(input(\"Masukkan derajat dalam celcius\"))\n",
    "fahrenheit = (celcius*9/5) + 32\n",
    "reamur = celcius*4/5\n",
    "kelvin = celcius + 273\n",
    "\n",
    "print(f\"{celcius} derajat celcius sama dengan {fahrenheit} derajat fahrenheit, {reamur} derajat reamur, {kelvin} derajat kelvin\")"
   ]
  },
  {
   "cell_type": "code",
   "execution_count": 5,
   "metadata": {},
   "outputs": [
    {
     "name": "stdout",
     "output_type": "stream",
     "text": [
      "luas dari segitiga yang alasnya 3.0 dan tingginya 10.0 adalah 15.0\n"
     ]
    }
   ],
   "source": [
    "#Program Hitung Luas Segitiga\n",
    "\n",
    "alas = float(input(\"Masukkan panjang alas segitiga\"))\n",
    "tinggi = float(input(\"Masukkan tinggi segitiga\"))\n",
    "luas = alas*tinggi/2\n",
    "\n",
    "print(f\"luas dari segitiga yang alasnya {alas} dan tingginya {tinggi} adalah {luas}\")"
   ]
  },
  {
   "cell_type": "code",
   "execution_count": 11,
   "metadata": {},
   "outputs": [
    {
     "name": "stdout",
     "output_type": "stream",
     "text": [
      "[231, 7454, 32427, 543]\n",
      "nilai maksimum dalam list adalah 32427\n",
      "nilai minimum dalam list adalah 231\n"
     ]
    }
   ],
   "source": [
    "#Menemukan nilai maksimum dan minimum di dalam list\n",
    "\n",
    "penampungan = []\n",
    "angka = input(\"masukkan angka yang akan ditampung\")\n",
    "penampungan = angka.split(\",\")\n",
    "\n",
    "penampungan = [int(angka) for angka in penampungan]\n",
    "print(penampungan)\n",
    "\n",
    "#cari nilai max\n",
    "nilaiMaks = max(penampungan)\n",
    "nilaiMin = min(penampungan)\n",
    "\n",
    "print(f\"nilai maksimum dalam list adalah {nilaiMaks}\")\n",
    "print(f\"nilai minimum dalam list adalah {nilaiMin}\")"
   ]
  },
  {
   "cell_type": "code",
   "execution_count": null,
   "metadata": {},
   "outputs": [],
   "source": [
    "#Membuat dictionary \n",
    "\n"
   ]
  }
 ],
 "metadata": {
  "kernelspec": {
   "display_name": "Python 3.10.10 64-bit (microsoft store)",
   "language": "python",
   "name": "python3"
  },
  "language_info": {
   "codemirror_mode": {
    "name": "ipython",
    "version": 3
   },
   "file_extension": ".py",
   "mimetype": "text/x-python",
   "name": "python",
   "nbconvert_exporter": "python",
   "pygments_lexer": "ipython3",
   "version": "3.10.10"
  },
  "orig_nbformat": 4,
  "vscode": {
   "interpreter": {
    "hash": "30c37c3a2c051bbba976eae1ee064de15fc361eda6ac51a7639a00dcadf10293"
   }
  }
 },
 "nbformat": 4,
 "nbformat_minor": 2
}
